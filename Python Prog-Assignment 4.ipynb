{
 "cells": [
  {
   "cell_type": "markdown",
   "metadata": {},
   "source": [
    "Write a Python Program to Find the Factorial of a Number?"
   ]
  },
  {
   "cell_type": "code",
   "execution_count": null,
   "metadata": {},
   "outputs": [],
   "source": [
    "import math\n",
    "num=int(input(\"Enter a number to calculate factorial:\"))\n",
    "\n",
    "factorial=math.factorial(num)\n",
    "print(factorial)"
   ]
  },
  {
   "cell_type": "markdown",
   "metadata": {},
   "source": [
    "Write a Python Program to Display the multiplication Table?"
   ]
  },
  {
   "cell_type": "code",
   "execution_count": null,
   "metadata": {},
   "outputs": [],
   "source": [
    "number = int(input (\"Enter the number to calculate a multilpication table: \"))      \n",
    "     \n",
    "for i in range(1, 11):      \n",
    "   print (number, 'x', i, '=', number * i)    "
   ]
  },
  {
   "cell_type": "markdown",
   "metadata": {},
   "source": [
    "Write a Python Program to Print the Fibonacci sequence?"
   ]
  },
  {
   "cell_type": "code",
   "execution_count": null,
   "metadata": {},
   "outputs": [],
   "source": [
    "fibo = int(input (\"Enter the number of terms: \"))      \n",
    "\n",
    "n1 = 0  \n",
    "n2 = 1  \n",
    "count = 0  \n",
    "   \n",
    "if fibo <= 0:  \n",
    "    print (\"The given number is not valid\")  \n",
    "\n",
    "elif fibo == 1:  \n",
    "    print (\"The Fibonacci sequence of the numbers up to\", fibo, \": \")  \n",
    "    print(n1)  \n",
    " \n",
    "else:  \n",
    "    print (\"The fibonacci sequence of the numbers is:\")  \n",
    "    while count < fibo:  \n",
    "        print(n1)  \n",
    "        n = n1 + n2\n",
    "        n1 = n2  \n",
    "        n2 = n   \n",
    "        count += 1  "
   ]
  },
  {
   "cell_type": "markdown",
   "metadata": {},
   "source": [
    "Write a Python Program to Check Armstrong Number?"
   ]
  },
  {
   "cell_type": "code",
   "execution_count": null,
   "metadata": {},
   "outputs": [],
   "source": [
    "num = int(input(\"Enter a number: \"))\n",
    "sum1 = 0\n",
    "\n",
    "temp = num\n",
    "while temp > 0:\n",
    "   digit = temp % 10\n",
    "   sum1 =sum1+ digit ** 3\n",
    "   temp //= 10\n",
    "\n",
    "if num == sum1:\n",
    "   print(num,\"is an Armstrong number\")\n",
    "else:\n",
    "   print(num,\"is not an Armstrong number\")"
   ]
  },
  {
   "cell_type": "markdown",
   "metadata": {},
   "source": [
    "Write a Python Program to Find Armstrong Number in an Interval?"
   ]
  },
  {
   "cell_type": "code",
   "execution_count": 6,
   "metadata": {},
   "outputs": [
    {
     "name": "stdout",
     "output_type": "stream",
     "text": [
      "153\n",
      "370\n",
      "371\n",
      "407\n"
     ]
    }
   ],
   "source": [
    "low=10\n",
    "high=1000\n",
    "\n",
    "for i in range(low,high+1):\n",
    "    sum1=0\n",
    "    temp = i\n",
    "    while temp > 0:\n",
    "       digit = temp % 10\n",
    "       sum1 =sum1+ digit ** 3\n",
    "       temp //= 10\n",
    "\n",
    "    if i == sum1:\n",
    "       print(i)"
   ]
  },
  {
   "cell_type": "markdown",
   "metadata": {},
   "source": [
    "Write a Python Program to Find the Sum of Natural Numbers?"
   ]
  },
  {
   "cell_type": "code",
   "execution_count": null,
   "metadata": {},
   "outputs": [],
   "source": []
  }
 ],
 "metadata": {
  "kernelspec": {
   "display_name": "Python 3",
   "language": "python",
   "name": "python3"
  },
  "language_info": {
   "codemirror_mode": {
    "name": "ipython",
    "version": 3
   },
   "file_extension": ".py",
   "mimetype": "text/x-python",
   "name": "python",
   "nbconvert_exporter": "python",
   "pygments_lexer": "ipython3",
   "version": "3.7.4"
  }
 },
 "nbformat": 4,
 "nbformat_minor": 2
}
